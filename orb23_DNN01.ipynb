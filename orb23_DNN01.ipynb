{
 "cells": [
  {
   "cell_type": "markdown",
   "metadata": {},
   "source": [
    "데이터 형태 (199991, 21)"
   ]
  },
  {
   "cell_type": "code",
   "execution_count": 1,
   "metadata": {},
   "outputs": [],
   "source": [
    "# 패키지 임포트\n",
    "import pandas as pd\n",
    "\n",
    "# 데이터 불러오기\n",
    "train = pd.read_csv('../Data/orb_data/train.csv', index_col=0)\n",
    "test = pd.read_csv('../Data/orb_data/test.csv', index_col=0)\n",
    "sample_submission = pd.read_csv('../Data/orb_data/sample_submission.csv', index_col=0)\n",
    "\n",
    "# Train 데이터의 타입을 Sample_submission에 대응하는 가변수 형태로 변환\n",
    "column_number = {}\n",
    "for i, column in enumerate(sample_submission.columns):\n",
    "    column_number[column] = i\n",
    "    \n",
    "def to_number(x, dic):\n",
    "    return dic[x]\n",
    "\n",
    "train['type_num'] = train['type'].apply(lambda x : to_number(x, column_number))\n",
    "\n",
    "# 모델에 적용할 데이터 셋 준비 \n",
    "train_x = train.drop(columns=['type', 'type_num'], axis=1)\n",
    "train_y = train['type_num']\n",
    "test_x = test"
   ]
  },
  {
   "cell_type": "code",
   "execution_count": 2,
   "metadata": {
    "scrolled": true
   },
   "outputs": [
    {
     "name": "stderr",
     "output_type": "stream",
     "text": [
      "Using TensorFlow backend.\n",
      "/home/ubuntu/anaconda3/envs/tensorflow2_p36/lib/python3.6/site-packages/tensorflow/python/framework/dtypes.py:516: FutureWarning: Passing (type, 1) or '1type' as a synonym of type is deprecated; in a future version of numpy, it will be understood as (type, (1,)) / '(1,)type'.\n",
      "  _np_qint8 = np.dtype([(\"qint8\", np.int8, 1)])\n",
      "/home/ubuntu/anaconda3/envs/tensorflow2_p36/lib/python3.6/site-packages/tensorflow/python/framework/dtypes.py:517: FutureWarning: Passing (type, 1) or '1type' as a synonym of type is deprecated; in a future version of numpy, it will be understood as (type, (1,)) / '(1,)type'.\n",
      "  _np_quint8 = np.dtype([(\"quint8\", np.uint8, 1)])\n",
      "/home/ubuntu/anaconda3/envs/tensorflow2_p36/lib/python3.6/site-packages/tensorflow/python/framework/dtypes.py:518: FutureWarning: Passing (type, 1) or '1type' as a synonym of type is deprecated; in a future version of numpy, it will be understood as (type, (1,)) / '(1,)type'.\n",
      "  _np_qint16 = np.dtype([(\"qint16\", np.int16, 1)])\n",
      "/home/ubuntu/anaconda3/envs/tensorflow2_p36/lib/python3.6/site-packages/tensorflow/python/framework/dtypes.py:519: FutureWarning: Passing (type, 1) or '1type' as a synonym of type is deprecated; in a future version of numpy, it will be understood as (type, (1,)) / '(1,)type'.\n",
      "  _np_quint16 = np.dtype([(\"quint16\", np.uint16, 1)])\n",
      "/home/ubuntu/anaconda3/envs/tensorflow2_p36/lib/python3.6/site-packages/tensorflow/python/framework/dtypes.py:520: FutureWarning: Passing (type, 1) or '1type' as a synonym of type is deprecated; in a future version of numpy, it will be understood as (type, (1,)) / '(1,)type'.\n",
      "  _np_qint32 = np.dtype([(\"qint32\", np.int32, 1)])\n",
      "/home/ubuntu/anaconda3/envs/tensorflow2_p36/lib/python3.6/site-packages/tensorflow/python/framework/dtypes.py:525: FutureWarning: Passing (type, 1) or '1type' as a synonym of type is deprecated; in a future version of numpy, it will be understood as (type, (1,)) / '(1,)type'.\n",
      "  np_resource = np.dtype([(\"resource\", np.ubyte, 1)])\n",
      "/home/lab06/.local/lib/python3.6/site-packages/tensorboard/compat/tensorflow_stub/dtypes.py:541: FutureWarning: Passing (type, 1) or '1type' as a synonym of type is deprecated; in a future version of numpy, it will be understood as (type, (1,)) / '(1,)type'.\n",
      "  _np_qint8 = np.dtype([(\"qint8\", np.int8, 1)])\n",
      "/home/lab06/.local/lib/python3.6/site-packages/tensorboard/compat/tensorflow_stub/dtypes.py:542: FutureWarning: Passing (type, 1) or '1type' as a synonym of type is deprecated; in a future version of numpy, it will be understood as (type, (1,)) / '(1,)type'.\n",
      "  _np_quint8 = np.dtype([(\"quint8\", np.uint8, 1)])\n",
      "/home/lab06/.local/lib/python3.6/site-packages/tensorboard/compat/tensorflow_stub/dtypes.py:543: FutureWarning: Passing (type, 1) or '1type' as a synonym of type is deprecated; in a future version of numpy, it will be understood as (type, (1,)) / '(1,)type'.\n",
      "  _np_qint16 = np.dtype([(\"qint16\", np.int16, 1)])\n",
      "/home/lab06/.local/lib/python3.6/site-packages/tensorboard/compat/tensorflow_stub/dtypes.py:544: FutureWarning: Passing (type, 1) or '1type' as a synonym of type is deprecated; in a future version of numpy, it will be understood as (type, (1,)) / '(1,)type'.\n",
      "  _np_quint16 = np.dtype([(\"quint16\", np.uint16, 1)])\n",
      "/home/lab06/.local/lib/python3.6/site-packages/tensorboard/compat/tensorflow_stub/dtypes.py:545: FutureWarning: Passing (type, 1) or '1type' as a synonym of type is deprecated; in a future version of numpy, it will be understood as (type, (1,)) / '(1,)type'.\n",
      "  _np_qint32 = np.dtype([(\"qint32\", np.int32, 1)])\n",
      "/home/lab06/.local/lib/python3.6/site-packages/tensorboard/compat/tensorflow_stub/dtypes.py:550: FutureWarning: Passing (type, 1) or '1type' as a synonym of type is deprecated; in a future version of numpy, it will be understood as (type, (1,)) / '(1,)type'.\n",
      "  np_resource = np.dtype([(\"resource\", np.ubyte, 1)])\n"
     ]
    }
   ],
   "source": [
    "# 훈련 데이터와 테스트 데이터로 나누기\n",
    "from sklearn.model_selection import train_test_split\n",
    "X_train, X_test, y_train, y_test = train_test_split(train_x, train_y, test_size=0.2)\n",
    "\n",
    "# One-Hot Encoding\n",
    "from keras.utils import np_utils\n",
    "y_train = np_utils.to_categorical(y_train)\n",
    "y_test = np_utils.to_categorical(y_test)"
   ]
  },
  {
   "cell_type": "code",
   "execution_count": 3,
   "metadata": {
    "scrolled": true
   },
   "outputs": [
    {
     "name": "stdout",
     "output_type": "stream",
     "text": [
      "Model: \"sequential_1\"\n",
      "_________________________________________________________________\n",
      "Layer (type)                 Output Shape              Param #   \n",
      "=================================================================\n",
      "dense_1 (Dense)              (None, 512)               11264     \n",
      "_________________________________________________________________\n",
      "dense_2 (Dense)              (None, 256)               131328    \n",
      "_________________________________________________________________\n",
      "dense_3 (Dense)              (None, 128)               32896     \n",
      "_________________________________________________________________\n",
      "dense_4 (Dense)              (None, 64)                8256      \n",
      "_________________________________________________________________\n",
      "dense_5 (Dense)              (None, 32)                2080      \n",
      "_________________________________________________________________\n",
      "dense_6 (Dense)              (None, 64)                2112      \n",
      "_________________________________________________________________\n",
      "dense_7 (Dense)              (None, 128)               8320      \n",
      "_________________________________________________________________\n",
      "dense_8 (Dense)              (None, 64)                8256      \n",
      "_________________________________________________________________\n",
      "dense_9 (Dense)              (None, 32)                2080      \n",
      "_________________________________________________________________\n",
      "dense_10 (Dense)             (None, 19)                627       \n",
      "=================================================================\n",
      "Total params: 207,219\n",
      "Trainable params: 207,219\n",
      "Non-trainable params: 0\n",
      "_________________________________________________________________\n",
      "WARNING:tensorflow:From /home/ubuntu/anaconda3/envs/tensorflow2_p36/lib/python3.6/site-packages/keras/backend/tensorflow_backend.py:422: The name tf.global_variables is deprecated. Please use tf.compat.v1.global_variables instead.\n",
      "\n",
      "Train on 127993 samples, validate on 31999 samples\n",
      "Epoch 1/100\n",
      "127993/127993 [==============================] - 3s 20us/step - loss: 2.3680 - accuracy: 0.2850 - val_loss: 2.1581 - val_accuracy: 0.3705\n",
      "Epoch 2/100\n",
      "127993/127993 [==============================] - 2s 16us/step - loss: 3.4694 - accuracy: 0.4200 - val_loss: 1.6718 - val_accuracy: 0.4517\n",
      "Epoch 3/100\n",
      "127993/127993 [==============================] - 2s 16us/step - loss: 1.4780 - accuracy: 0.5025 - val_loss: 1.6798 - val_accuracy: 0.4768\n",
      "Epoch 4/100\n",
      "127993/127993 [==============================] - 2s 16us/step - loss: 2.4041 - accuracy: 0.5398 - val_loss: 1.7280 - val_accuracy: 0.5734\n",
      "Epoch 5/100\n",
      "127993/127993 [==============================] - 2s 16us/step - loss: 1.3352 - accuracy: 0.5795 - val_loss: 1.3810 - val_accuracy: 0.5450\n",
      "Epoch 6/100\n",
      "127993/127993 [==============================] - 2s 16us/step - loss: 2.9440 - accuracy: 0.6050 - val_loss: 1.1203 - val_accuracy: 0.6711\n",
      "Epoch 7/100\n",
      "127993/127993 [==============================] - 2s 16us/step - loss: 8.1234 - accuracy: 0.6391 - val_loss: 0.9300 - val_accuracy: 0.6940\n",
      "Epoch 8/100\n",
      "127993/127993 [==============================] - 2s 16us/step - loss: 0.9911 - accuracy: 0.6622 - val_loss: 0.9815 - val_accuracy: 0.6613\n",
      "Epoch 9/100\n",
      "127993/127993 [==============================] - 2s 16us/step - loss: 0.8962 - accuracy: 0.6884 - val_loss: 0.8757 - val_accuracy: 0.7022\n",
      "Epoch 10/100\n",
      "127993/127993 [==============================] - 2s 16us/step - loss: 1.2241 - accuracy: 0.6987 - val_loss: 0.8635 - val_accuracy: 0.7171\n",
      "Epoch 11/100\n",
      "127993/127993 [==============================] - 2s 16us/step - loss: 1.9651 - accuracy: 0.7039 - val_loss: 1.4320 - val_accuracy: 0.5340\n",
      "Epoch 12/100\n",
      "127993/127993 [==============================] - 2s 16us/step - loss: 0.8909 - accuracy: 0.7060 - val_loss: 0.8168 - val_accuracy: 0.7464\n",
      "Epoch 13/100\n",
      "127993/127993 [==============================] - 2s 16us/step - loss: 0.8839 - accuracy: 0.7173 - val_loss: 0.8344 - val_accuracy: 0.7526\n",
      "Epoch 14/100\n",
      "127993/127993 [==============================] - 2s 16us/step - loss: 0.8632 - accuracy: 0.7106 - val_loss: 0.9213 - val_accuracy: 0.7339\n",
      "Epoch 15/100\n",
      "127993/127993 [==============================] - 2s 16us/step - loss: 0.8940 - accuracy: 0.7171 - val_loss: 0.8194 - val_accuracy: 0.7272\n",
      "Epoch 16/100\n",
      "127993/127993 [==============================] - 2s 16us/step - loss: 0.8888 - accuracy: 0.7217 - val_loss: 0.7925 - val_accuracy: 0.7654\n",
      "Epoch 17/100\n",
      "127993/127993 [==============================] - 2s 16us/step - loss: 1.4748 - accuracy: 0.7271 - val_loss: 0.8189 - val_accuracy: 0.7451\n",
      "Epoch 18/100\n",
      "127993/127993 [==============================] - 2s 16us/step - loss: 0.8282 - accuracy: 0.7320 - val_loss: 0.8645 - val_accuracy: 0.7041\n",
      "Epoch 19/100\n",
      "127993/127993 [==============================] - 2s 16us/step - loss: 0.7576 - accuracy: 0.7462 - val_loss: 0.7842 - val_accuracy: 0.7321\n",
      "Epoch 20/100\n",
      "127993/127993 [==============================] - 2s 16us/step - loss: 0.7769 - accuracy: 0.7420 - val_loss: 0.7938 - val_accuracy: 0.7438\n",
      "Epoch 21/100\n",
      "127993/127993 [==============================] - 2s 16us/step - loss: 0.7386 - accuracy: 0.7458 - val_loss: 0.8313 - val_accuracy: 0.7194\n",
      "Epoch 22/100\n",
      "127993/127993 [==============================] - 2s 16us/step - loss: 0.7476 - accuracy: 0.7467 - val_loss: 0.6757 - val_accuracy: 0.7768\n",
      "Epoch 23/100\n",
      "127993/127993 [==============================] - 2s 16us/step - loss: 0.7511 - accuracy: 0.7583 - val_loss: 1.6957 - val_accuracy: 0.6991\n",
      "Epoch 24/100\n",
      "127993/127993 [==============================] - 2s 16us/step - loss: 1.2522 - accuracy: 0.7292 - val_loss: 1.0806 - val_accuracy: 0.7455\n",
      "Epoch 25/100\n",
      "127993/127993 [==============================] - 2s 16us/step - loss: 2.2819 - accuracy: 0.7510 - val_loss: 1.2995 - val_accuracy: 0.7611\n",
      "Epoch 26/100\n",
      "127993/127993 [==============================] - 2s 16us/step - loss: 0.8168 - accuracy: 0.7641 - val_loss: 1.5108 - val_accuracy: 0.8017\n",
      "Epoch 27/100\n",
      "127993/127993 [==============================] - 2s 16us/step - loss: 0.9108 - accuracy: 0.7711 - val_loss: 0.9095 - val_accuracy: 0.7477\n",
      "Epoch 28/100\n",
      "127993/127993 [==============================] - 2s 16us/step - loss: 3.4284 - accuracy: 0.7630 - val_loss: 1.2337 - val_accuracy: 0.7456\n",
      "Epoch 29/100\n",
      "127993/127993 [==============================] - 2s 16us/step - loss: 1.4338 - accuracy: 0.7717 - val_loss: 0.8728 - val_accuracy: 0.7836\n",
      "Epoch 30/100\n",
      "127993/127993 [==============================] - 2s 16us/step - loss: 2.4303 - accuracy: 0.7884 - val_loss: 0.9515 - val_accuracy: 0.7687\n",
      "Epoch 31/100\n",
      "127993/127993 [==============================] - 2s 16us/step - loss: 1.5564 - accuracy: 0.7781 - val_loss: 0.8212 - val_accuracy: 0.8179\n",
      "Epoch 32/100\n",
      "127993/127993 [==============================] - 2s 16us/step - loss: 0.6759 - accuracy: 0.7946 - val_loss: 0.7225 - val_accuracy: 0.7888\n",
      "Epoch 33/100\n",
      "127993/127993 [==============================] - 2s 16us/step - loss: 0.6817 - accuracy: 0.7988 - val_loss: 0.5612 - val_accuracy: 0.8220\n",
      "Epoch 34/100\n",
      "127993/127993 [==============================] - 2s 16us/step - loss: 0.6076 - accuracy: 0.7981 - val_loss: 0.6301 - val_accuracy: 0.7880\n",
      "Epoch 35/100\n",
      "127993/127993 [==============================] - 2s 16us/step - loss: 0.5896 - accuracy: 0.8011 - val_loss: 0.5394 - val_accuracy: 0.8216\n",
      "Epoch 36/100\n",
      "127993/127993 [==============================] - 2s 16us/step - loss: 0.6030 - accuracy: 0.7944 - val_loss: 0.5929 - val_accuracy: 0.8058\n",
      "Epoch 37/100\n",
      "127993/127993 [==============================] - 2s 16us/step - loss: 0.5946 - accuracy: 0.8001 - val_loss: 0.5374 - val_accuracy: 0.8234\n",
      "Epoch 38/100\n",
      "127993/127993 [==============================] - 2s 16us/step - loss: 0.5747 - accuracy: 0.8043 - val_loss: 0.5515 - val_accuracy: 0.8115\n",
      "Epoch 39/100\n",
      "127993/127993 [==============================] - 2s 16us/step - loss: 0.5869 - accuracy: 0.8001 - val_loss: 0.7082 - val_accuracy: 0.7631\n",
      "Epoch 40/100\n",
      "127993/127993 [==============================] - 2s 16us/step - loss: 0.5912 - accuracy: 0.7982 - val_loss: 0.5426 - val_accuracy: 0.8142\n",
      "Epoch 41/100\n",
      "127993/127993 [==============================] - 2s 16us/step - loss: 0.5809 - accuracy: 0.8020 - val_loss: 0.5784 - val_accuracy: 0.8036\n",
      "Epoch 42/100\n"
     ]
    },
    {
     "name": "stdout",
     "output_type": "stream",
     "text": [
      "127993/127993 [==============================] - 2s 16us/step - loss: 0.5716 - accuracy: 0.8054 - val_loss: 0.5555 - val_accuracy: 0.8085\n",
      "Epoch 43/100\n",
      "127993/127993 [==============================] - 2s 16us/step - loss: 0.6286 - accuracy: 0.7983 - val_loss: 0.5482 - val_accuracy: 0.8203\n",
      "Epoch 44/100\n",
      "127993/127993 [==============================] - 2s 16us/step - loss: 0.5532 - accuracy: 0.8107 - val_loss: 0.5372 - val_accuracy: 0.8131\n",
      "Epoch 45/100\n",
      "127993/127993 [==============================] - 2s 16us/step - loss: 0.5852 - accuracy: 0.8012 - val_loss: 0.5243 - val_accuracy: 0.8244\n",
      "Epoch 46/100\n",
      "127993/127993 [==============================] - 2s 16us/step - loss: 0.5699 - accuracy: 0.8052 - val_loss: 0.5596 - val_accuracy: 0.8169\n",
      "Epoch 47/100\n",
      "127993/127993 [==============================] - 2s 16us/step - loss: 0.5556 - accuracy: 0.8101 - val_loss: 0.6817 - val_accuracy: 0.7662\n",
      "Epoch 48/100\n",
      "127993/127993 [==============================] - 2s 16us/step - loss: 0.5601 - accuracy: 0.8077 - val_loss: 0.5885 - val_accuracy: 0.7972\n",
      "Epoch 49/100\n",
      "127993/127993 [==============================] - 2s 16us/step - loss: 1.3817 - accuracy: 0.8028 - val_loss: 0.5432 - val_accuracy: 0.8149\n",
      "Epoch 50/100\n",
      "127993/127993 [==============================] - 2s 16us/step - loss: 0.5563 - accuracy: 0.8132 - val_loss: 0.5848 - val_accuracy: 0.8111\n",
      "Epoch 51/100\n",
      "127993/127993 [==============================] - 2s 16us/step - loss: 0.5520 - accuracy: 0.8126 - val_loss: 0.5540 - val_accuracy: 0.8116\n",
      "Epoch 52/100\n",
      "127993/127993 [==============================] - 2s 16us/step - loss: 0.5526 - accuracy: 0.8114 - val_loss: 0.5733 - val_accuracy: 0.8156\n",
      "Epoch 53/100\n",
      "127993/127993 [==============================] - 2s 16us/step - loss: 0.5458 - accuracy: 0.8151 - val_loss: 0.5547 - val_accuracy: 0.8104\n",
      "Epoch 54/100\n",
      "127993/127993 [==============================] - 2s 16us/step - loss: 0.5744 - accuracy: 0.8111 - val_loss: 0.5171 - val_accuracy: 0.8242\n",
      "Epoch 55/100\n",
      "127993/127993 [==============================] - 2s 16us/step - loss: 0.6365 - accuracy: 0.8175 - val_loss: 0.6373 - val_accuracy: 0.7944\n",
      "Epoch 56/100\n",
      "127993/127993 [==============================] - 2s 16us/step - loss: 0.5535 - accuracy: 0.8101 - val_loss: 0.5664 - val_accuracy: 0.8044\n",
      "Epoch 57/100\n",
      "127993/127993 [==============================] - 2s 16us/step - loss: 0.5420 - accuracy: 0.8154 - val_loss: 0.4900 - val_accuracy: 0.8368\n",
      "Epoch 58/100\n",
      "127993/127993 [==============================] - 2s 16us/step - loss: 0.5426 - accuracy: 0.8151 - val_loss: 0.5422 - val_accuracy: 0.8035\n",
      "Epoch 59/100\n",
      "127993/127993 [==============================] - 2s 16us/step - loss: 0.6210 - accuracy: 0.8143 - val_loss: 0.4950 - val_accuracy: 0.8331\n",
      "Epoch 60/100\n",
      "127993/127993 [==============================] - 2s 16us/step - loss: 0.5261 - accuracy: 0.8197 - val_loss: 0.6674 - val_accuracy: 0.7486\n",
      "Epoch 61/100\n",
      "127993/127993 [==============================] - 2s 16us/step - loss: 0.5356 - accuracy: 0.8172 - val_loss: 0.5042 - val_accuracy: 0.8263\n",
      "Epoch 62/100\n",
      "127993/127993 [==============================] - 2s 16us/step - loss: 0.5178 - accuracy: 0.8230 - val_loss: 0.4824 - val_accuracy: 0.8378\n",
      "Epoch 63/100\n",
      "127993/127993 [==============================] - 2s 16us/step - loss: 0.5402 - accuracy: 0.8145 - val_loss: 0.5543 - val_accuracy: 0.8037\n",
      "Epoch 64/100\n",
      "127993/127993 [==============================] - 2s 16us/step - loss: 0.5284 - accuracy: 0.8206 - val_loss: 0.6069 - val_accuracy: 0.7846\n",
      "Epoch 65/100\n",
      "127993/127993 [==============================] - 2s 16us/step - loss: 0.5240 - accuracy: 0.8198 - val_loss: 0.4679 - val_accuracy: 0.8448\n",
      "Epoch 66/100\n",
      "127993/127993 [==============================] - 2s 16us/step - loss: 0.5383 - accuracy: 0.8172 - val_loss: 0.5179 - val_accuracy: 0.8262\n",
      "Epoch 67/100\n",
      "127993/127993 [==============================] - 2s 16us/step - loss: 0.5180 - accuracy: 0.8239 - val_loss: 0.4869 - val_accuracy: 0.8353\n",
      "Epoch 68/100\n",
      "127993/127993 [==============================] - 2s 16us/step - loss: 0.5048 - accuracy: 0.8267 - val_loss: 0.5006 - val_accuracy: 0.8293\n",
      "Epoch 69/100\n",
      "127993/127993 [==============================] - 2s 16us/step - loss: 0.5286 - accuracy: 0.8184 - val_loss: 0.4879 - val_accuracy: 0.8377\n",
      "Epoch 70/100\n",
      "127993/127993 [==============================] - 2s 16us/step - loss: 0.5033 - accuracy: 0.8266 - val_loss: 0.4900 - val_accuracy: 0.8390\n",
      "Epoch 71/100\n",
      "127993/127993 [==============================] - 2s 16us/step - loss: 0.5125 - accuracy: 0.8235 - val_loss: 0.5033 - val_accuracy: 0.8284\n",
      "Epoch 72/100\n",
      "127993/127993 [==============================] - 2s 16us/step - loss: 0.5099 - accuracy: 0.8240 - val_loss: 0.4933 - val_accuracy: 0.8330\n",
      "Epoch 73/100\n",
      "127993/127993 [==============================] - 2s 16us/step - loss: 0.5211 - accuracy: 0.8211 - val_loss: 0.5296 - val_accuracy: 0.8157\n",
      "Epoch 74/100\n",
      "127993/127993 [==============================] - 2s 16us/step - loss: 0.5044 - accuracy: 0.8267 - val_loss: 0.4902 - val_accuracy: 0.8314\n",
      "Epoch 75/100\n",
      "127993/127993 [==============================] - 2s 16us/step - loss: 0.5094 - accuracy: 0.8246 - val_loss: 0.4757 - val_accuracy: 0.8370\n",
      "Epoch 76/100\n",
      "127993/127993 [==============================] - 2s 16us/step - loss: 0.5233 - accuracy: 0.8196 - val_loss: 0.5857 - val_accuracy: 0.8089\n",
      "Epoch 77/100\n",
      "127993/127993 [==============================] - 2s 16us/step - loss: 0.5074 - accuracy: 0.8259 - val_loss: 0.4912 - val_accuracy: 0.8307\n",
      "Epoch 78/100\n",
      "127993/127993 [==============================] - 2s 16us/step - loss: 0.5161 - accuracy: 0.8213 - val_loss: 0.4849 - val_accuracy: 0.8360\n",
      "Epoch 79/100\n",
      "127993/127993 [==============================] - 2s 16us/step - loss: 0.5101 - accuracy: 0.8240 - val_loss: 0.5029 - val_accuracy: 0.8312\n",
      "Epoch 80/100\n",
      "127993/127993 [==============================] - 2s 16us/step - loss: 0.4996 - accuracy: 0.8274 - val_loss: 0.4930 - val_accuracy: 0.8328\n",
      "Epoch 81/100\n",
      "127993/127993 [==============================] - 2s 16us/step - loss: 0.4990 - accuracy: 0.8284 - val_loss: 0.5127 - val_accuracy: 0.8258\n",
      "Epoch 82/100\n",
      "127993/127993 [==============================] - 2s 16us/step - loss: 0.4952 - accuracy: 0.8293 - val_loss: 0.4824 - val_accuracy: 0.8383\n",
      "Epoch 83/100\n",
      "127993/127993 [==============================] - 2s 16us/step - loss: 0.5024 - accuracy: 0.8259 - val_loss: 0.4756 - val_accuracy: 0.8391\n",
      "Epoch 84/100\n",
      "127993/127993 [==============================] - 2s 16us/step - loss: 0.5429 - accuracy: 0.8220 - val_loss: 0.4726 - val_accuracy: 0.8439\n",
      "Epoch 85/100\n",
      "127993/127993 [==============================] - 2s 16us/step - loss: 0.5035 - accuracy: 0.8269 - val_loss: 0.5287 - val_accuracy: 0.8271\n",
      "Epoch 86/100\n",
      "127993/127993 [==============================] - 2s 16us/step - loss: 0.5148 - accuracy: 0.8233 - val_loss: 0.5690 - val_accuracy: 0.8017\n",
      "Epoch 87/100\n",
      "127993/127993 [==============================] - 2s 16us/step - loss: 0.4966 - accuracy: 0.8298 - val_loss: 0.4697 - val_accuracy: 0.8380\n",
      "Epoch 88/100\n",
      "127993/127993 [==============================] - 2s 16us/step - loss: 0.5346 - accuracy: 0.8239 - val_loss: 0.5201 - val_accuracy: 0.8194\n",
      "Epoch 89/100\n",
      "127993/127993 [==============================] - 2s 16us/step - loss: 0.4942 - accuracy: 0.8294 - val_loss: 0.4581 - val_accuracy: 0.8447\n",
      "Epoch 90/100\n",
      "127993/127993 [==============================] - 2s 16us/step - loss: 0.5028 - accuracy: 0.8271 - val_loss: 0.5549 - val_accuracy: 0.8155\n",
      "Epoch 91/100\n",
      "127993/127993 [==============================] - 2s 16us/step - loss: 0.4908 - accuracy: 0.8312 - val_loss: 0.5157 - val_accuracy: 0.8181\n",
      "Epoch 92/100\n",
      "127993/127993 [==============================] - 2s 16us/step - loss: 0.4931 - accuracy: 0.8305 - val_loss: 0.4708 - val_accuracy: 0.8397\n",
      "Epoch 93/100\n",
      "127993/127993 [==============================] - 2s 16us/step - loss: 0.4946 - accuracy: 0.8301 - val_loss: 0.4716 - val_accuracy: 0.8397\n",
      "Epoch 94/100\n",
      "127993/127993 [==============================] - 2s 16us/step - loss: 0.5026 - accuracy: 0.8273 - val_loss: 0.6906 - val_accuracy: 0.7818\n",
      "Epoch 95/100\n",
      "127993/127993 [==============================] - 2s 16us/step - loss: 0.4959 - accuracy: 0.8294 - val_loss: 0.4564 - val_accuracy: 0.8441\n",
      "Epoch 96/100\n"
     ]
    },
    {
     "name": "stdout",
     "output_type": "stream",
     "text": [
      "127993/127993 [==============================] - 2s 16us/step - loss: 0.4922 - accuracy: 0.8302 - val_loss: 0.4668 - val_accuracy: 0.8415\n",
      "Epoch 97/100\n",
      "127993/127993 [==============================] - 2s 16us/step - loss: 0.4926 - accuracy: 0.8306 - val_loss: 0.4653 - val_accuracy: 0.8422\n",
      "Epoch 98/100\n",
      "127993/127993 [==============================] - 2s 16us/step - loss: 0.4939 - accuracy: 0.8298 - val_loss: 0.4576 - val_accuracy: 0.8428\n",
      "Epoch 99/100\n",
      "127993/127993 [==============================] - 2s 16us/step - loss: 0.4907 - accuracy: 0.8307 - val_loss: 0.4869 - val_accuracy: 0.8319\n",
      "Epoch 100/100\n",
      "127993/127993 [==============================] - 2s 16us/step - loss: 0.4952 - accuracy: 0.8286 - val_loss: 0.5643 - val_accuracy: 0.8069\n"
     ]
    }
   ],
   "source": [
    "# 모델 구성\n",
    "from keras.models import Sequential\n",
    "from keras.layers import Dense\n",
    "model = Sequential()\n",
    "\n",
    "# model.add(Dense(5, input_dim=1))\n",
    "model.add(Dense(512, input_shape=(21,)))\n",
    "model.add(Dense(256, activation='relu'))\n",
    "model.add(Dense(128, activation='relu'))\n",
    "model.add(Dense(64, activation='relu'))\n",
    "model.add(Dense(32, activation='relu'))\n",
    "model.add(Dense(64, activation='relu'))\n",
    "model.add(Dense(128, activation='relu'))\n",
    "model.add(Dense(64, activation='relu'))\n",
    "model.add(Dense(32, activation='relu'))\n",
    "model.add(Dense(19, activation='softmax'))\n",
    "\n",
    "# 모델 요약\n",
    "model.summary()\n",
    "\n",
    "# 훈련\n",
    "model.compile(loss=\"categorical_crossentropy\", optimizer=\"adam\", metrics=[\"accuracy\"]) # kinds of loss = [mse, mae]\n",
    "history = model.fit(X_train, y_train, validation_split=0.2, epochs=100, batch_size=256) # epochs number changeable"
   ]
  },
  {
   "cell_type": "code",
   "execution_count": 4,
   "metadata": {},
   "outputs": [
    {
     "name": "stdout",
     "output_type": "stream",
     "text": [
      "39999/39999 [==============================] - 0s 5us/step\n",
      "loss:  0.5623215161525278\n",
      "accuracy:  0.8086702227592468\n"
     ]
    }
   ],
   "source": [
    "# 평가예측\n",
    "loss, accuracy = model.evaluate(X_test, y_test, batch_size=256)\n",
    "print('loss: ', loss)\n",
    "print('accuracy: ', accuracy)"
   ]
  },
  {
   "cell_type": "code",
   "execution_count": 5,
   "metadata": {},
   "outputs": [
    {
     "data": {
      "image/png": "[encoded data removed]",
      "text/plain": [
       "<Figure size 432x288 with 1 Axes>"
      ]
     },
     "metadata": {},
     "output_type": "display_data"
    }
   ],
   "source": [
    "# summarize history for accuracy\n",
    "%matplotlib inline\n",
    "import matplotlib.pyplot as plt\n",
    "plt.plot(history.history['accuracy'])\n",
    "plt.plot(history.history['val_accuracy'])\n",
    "plt.title('model accuracy')\n",
    "plt.ylabel('accuracy')\n",
    "plt.xlabel('epoch')\n",
    "plt.legend(['train', 'test'], loc='upper left')\n",
    "plt.show()"
   ]
  },
  {
   "cell_type": "code",
   "execution_count": 6,
   "metadata": {},
   "outputs": [
    {
     "data": {
      "image/png": "[encoded data removed]",
      "text/plain": [
       "<Figure size 432x288 with 1 Axes>"
      ]
     },
     "metadata": {},
     "output_type": "display_data"
    }
   ],
   "source": [
    "# summarize history for loss\n",
    "plt.plot(history.history['loss'])\n",
    "plt.plot(history.history['val_loss'])\n",
    "plt.title('model loss')\n",
    "plt.ylabel('loss')\n",
    "plt.xlabel('epoch')\n",
    "plt.legend(['train', 'test'], loc='upper left')\n",
    "plt.show()"
   ]
  },
  {
   "cell_type": "code",
   "execution_count": 7,
   "metadata": {},
   "outputs": [
    {
     "name": "stdout",
     "output_type": "stream",
     "text": [
      "[[2.61701728e-12 4.19242880e-08 2.56425003e-04 ... 6.18352871e-08\n",
      "  1.73232198e-04 6.74996727e-06]\n",
      " [2.03835157e-07 1.17612342e-06 1.07423261e-08 ... 7.88503606e-16\n",
      "  6.13454977e-05 7.87469093e-04]\n",
      " [4.43168892e-06 2.35685093e-06 5.64026958e-15 ... 5.94463700e-10\n",
      "  9.71113604e-06 1.24527742e-06]\n",
      " ...\n",
      " [5.53318896e-18 1.04054205e-22 2.72446618e-32 ... 0.00000000e+00\n",
      "  1.00951332e-22 6.57654001e-11]\n",
      " [1.02276698e-09 1.31318938e-08 3.34960521e-13 ... 7.73795218e-37\n",
      "  2.08853430e-06 1.40846800e-03]\n",
      " [1.40539734e-04 2.35679363e-06 5.35474961e-26 ... 5.46648129e-14\n",
      "  3.87955288e-06 3.79211298e-04]]\n"
     ]
    },
    {
     "data": {
      "text/plain": [
       "\"\\n# # 제출 파일 생성\\n# submission = pd.DataFrame(data=y_pred, columns=sample_submission.columns, index=sample_submission.index)\\n# submission.to_csv('submission.csv', index=True)\\n\""
      ]
     },
     "execution_count": 7,
     "metadata": {},
     "output_type": "execute_result"
    }
   ],
   "source": [
    "# Evaluating in optimal parameter\n",
    "y_pred = model.predict(test_x)\n",
    "print(y_pred)\n",
    "\n",
    "'''\n",
    "# # 제출 파일 생성\n",
    "# submission = pd.DataFrame(data=y_pred, columns=sample_submission.columns, index=sample_submission.index)\n",
    "# submission.to_csv('submission.csv', index=True)\n",
    "'''"
   ]
  },
  {
   "cell_type": "markdown",
   "metadata": {},
   "source": [
    "결과 분석: fiberID가 아무런 의미가 없으므로 행을 삭제한다."
   ]
  }
 ],
 "metadata": {
  "kernelspec": {
   "display_name": "Python [conda env:tensorflow2_p36]",
   "language": "python",
   "name": "conda-env-tensorflow2_p36-py"
  },
  "language_info": {
   "codemirror_mode": {
    "name": "ipython",
    "version": 3
   },
   "file_extension": ".py",
   "mimetype": "text/x-python",
   "name": "python",
   "nbconvert_exporter": "python",
   "pygments_lexer": "ipython3",
   "version": "3.6.5"
  }
 },
 "nbformat": 4,
 "nbformat_minor": 2
}
