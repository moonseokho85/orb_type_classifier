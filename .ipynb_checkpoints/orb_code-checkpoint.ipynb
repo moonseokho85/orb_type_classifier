{
 "cells": [
  {
   "cell_type": "code",
   "execution_count": 2,
   "metadata": {
    "colab": {
     "base_uri": "https://localhost:8080/",
     "height": 124
    },
    "colab_type": "code",
    "executionInfo": {
     "elapsed": 24219,
     "status": "ok",
     "timestamp": 1580628375749,
     "user": {
      "displayName": "문석호",
      "photoUrl": "https://lh5.googleusercontent.com/-S41Eymyzw50/AAAAAAAAAAI/AAAAAAAAErI/39dbJ0N5na4/s64/photo.jpg",
      "userId": "02576687641258520797"
     },
     "user_tz": -540
    },
    "id": "pFiDTQr5uWsW",
    "outputId": "37245329-b317-43f8-b3cb-98c318edef58"
   },
   "outputs": [
    {
     "name": "stdout",
     "output_type": "stream",
     "text": [
      "Go to this URL in a browser: https://accounts.google.com/o/oauth2/auth?client_id=947318989803-6bn6qk8qdgf4n4g3pfee6491hc0brc4i.apps.googleusercontent.com&redirect_uri=urn%3aietf%3awg%3aoauth%3a2.0%3aoob&response_type=code&scope=email%20https%3a%2f%2fwww.googleapis.com%2fauth%2fdocs.test%20https%3a%2f%2fwww.googleapis.com%2fauth%2fdrive%20https%3a%2f%2fwww.googleapis.com%2fauth%2fdrive.photos.readonly%20https%3a%2f%2fwww.googleapis.com%2fauth%2fpeopleapi.readonly\n",
      "\n",
      "Enter your authorization code:\n",
      "··········\n",
      "Mounted at /content/drive\n"
     ]
    }
   ],
   "source": [
    "from google.colab import drive\n",
    "drive.mount('/content/drive')"
   ]
  },
  {
   "cell_type": "code",
   "execution_count": 3,
   "metadata": {
    "colab": {
     "base_uri": "https://localhost:8080/",
     "height": 216
    },
    "colab_type": "code",
    "executionInfo": {
     "elapsed": 26095,
     "status": "ok",
     "timestamp": 1580628377650,
     "user": {
      "displayName": "문석호",
      "photoUrl": "https://lh5.googleusercontent.com/-S41Eymyzw50/AAAAAAAAAAI/AAAAAAAAErI/39dbJ0N5na4/s64/photo.jpg",
      "userId": "02576687641258520797"
     },
     "user_tz": -540
    },
    "id": "wjvKGvdauiT4",
    "outputId": "89f02995-ad64-4447-bfd3-51b744ff9523"
   },
   "outputs": [
    {
     "data": {
      "text/html": [
       "<div>\n",
       "<style scoped>\n",
       "    .dataframe tbody tr th:only-of-type {\n",
       "        vertical-align: middle;\n",
       "    }\n",
       "\n",
       "    .dataframe tbody tr th {\n",
       "        vertical-align: top;\n",
       "    }\n",
       "\n",
       "    .dataframe thead th {\n",
       "        text-align: right;\n",
       "    }\n",
       "</style>\n",
       "<table border=\"1\" class=\"dataframe\">\n",
       "  <thead>\n",
       "    <tr style=\"text-align: right;\">\n",
       "      <th></th>\n",
       "      <th>id</th>\n",
       "      <th>type</th>\n",
       "      <th>fiberID</th>\n",
       "      <th>psfMag_u</th>\n",
       "      <th>psfMag_g</th>\n",
       "      <th>psfMag_r</th>\n",
       "      <th>psfMag_i</th>\n",
       "      <th>psfMag_z</th>\n",
       "      <th>fiberMag_u</th>\n",
       "      <th>fiberMag_g</th>\n",
       "      <th>fiberMag_r</th>\n",
       "      <th>fiberMag_i</th>\n",
       "      <th>fiberMag_z</th>\n",
       "      <th>petroMag_u</th>\n",
       "      <th>petroMag_g</th>\n",
       "      <th>petroMag_r</th>\n",
       "      <th>petroMag_i</th>\n",
       "      <th>petroMag_z</th>\n",
       "      <th>modelMag_u</th>\n",
       "      <th>modelMag_g</th>\n",
       "      <th>modelMag_r</th>\n",
       "      <th>modelMag_i</th>\n",
       "      <th>modelMag_z</th>\n",
       "    </tr>\n",
       "  </thead>\n",
       "  <tbody>\n",
       "    <tr>\n",
       "      <th>0</th>\n",
       "      <td>0</td>\n",
       "      <td>QSO</td>\n",
       "      <td>601</td>\n",
       "      <td>23.198224</td>\n",
       "      <td>21.431953</td>\n",
       "      <td>21.314148</td>\n",
       "      <td>21.176553</td>\n",
       "      <td>21.171444</td>\n",
       "      <td>22.581309</td>\n",
       "      <td>21.644453</td>\n",
       "      <td>21.657571</td>\n",
       "      <td>21.387653</td>\n",
       "      <td>21.572827</td>\n",
       "      <td>22.504317</td>\n",
       "      <td>21.431636</td>\n",
       "      <td>21.478312</td>\n",
       "      <td>21.145409</td>\n",
       "      <td>20.422446</td>\n",
       "      <td>22.749241</td>\n",
       "      <td>21.465534</td>\n",
       "      <td>21.364187</td>\n",
       "      <td>21.020605</td>\n",
       "      <td>21.147340</td>\n",
       "    </tr>\n",
       "    <tr>\n",
       "      <th>1</th>\n",
       "      <td>1</td>\n",
       "      <td>QSO</td>\n",
       "      <td>788</td>\n",
       "      <td>21.431355</td>\n",
       "      <td>20.708104</td>\n",
       "      <td>20.678850</td>\n",
       "      <td>20.703420</td>\n",
       "      <td>20.473229</td>\n",
       "      <td>21.868797</td>\n",
       "      <td>21.029773</td>\n",
       "      <td>20.967054</td>\n",
       "      <td>20.937731</td>\n",
       "      <td>21.063646</td>\n",
       "      <td>21.360701</td>\n",
       "      <td>20.778968</td>\n",
       "      <td>20.889705</td>\n",
       "      <td>20.639812</td>\n",
       "      <td>20.646660</td>\n",
       "      <td>21.492955</td>\n",
       "      <td>20.758527</td>\n",
       "      <td>20.753925</td>\n",
       "      <td>20.693389</td>\n",
       "      <td>20.512314</td>\n",
       "    </tr>\n",
       "    <tr>\n",
       "      <th>2</th>\n",
       "      <td>2</td>\n",
       "      <td>QSO</td>\n",
       "      <td>427</td>\n",
       "      <td>17.851451</td>\n",
       "      <td>16.727898</td>\n",
       "      <td>16.679677</td>\n",
       "      <td>16.694640</td>\n",
       "      <td>16.641788</td>\n",
       "      <td>18.171890</td>\n",
       "      <td>17.033098</td>\n",
       "      <td>16.999682</td>\n",
       "      <td>17.095999</td>\n",
       "      <td>17.076449</td>\n",
       "      <td>17.867253</td>\n",
       "      <td>16.738784</td>\n",
       "      <td>16.688874</td>\n",
       "      <td>16.744210</td>\n",
       "      <td>16.808006</td>\n",
       "      <td>17.818063</td>\n",
       "      <td>16.697434</td>\n",
       "      <td>16.641249</td>\n",
       "      <td>16.660177</td>\n",
       "      <td>16.688928</td>\n",
       "    </tr>\n",
       "    <tr>\n",
       "      <th>3</th>\n",
       "      <td>3</td>\n",
       "      <td>QSO</td>\n",
       "      <td>864</td>\n",
       "      <td>20.789900</td>\n",
       "      <td>20.040371</td>\n",
       "      <td>19.926909</td>\n",
       "      <td>19.843840</td>\n",
       "      <td>19.463270</td>\n",
       "      <td>21.039030</td>\n",
       "      <td>20.317165</td>\n",
       "      <td>20.217898</td>\n",
       "      <td>20.073852</td>\n",
       "      <td>19.794505</td>\n",
       "      <td>20.433907</td>\n",
       "      <td>19.993727</td>\n",
       "      <td>19.985531</td>\n",
       "      <td>19.750917</td>\n",
       "      <td>19.455117</td>\n",
       "      <td>20.770711</td>\n",
       "      <td>20.001699</td>\n",
       "      <td>19.889798</td>\n",
       "      <td>19.758113</td>\n",
       "      <td>19.552855</td>\n",
       "    </tr>\n",
       "    <tr>\n",
       "      <th>4</th>\n",
       "      <td>4</td>\n",
       "      <td>STAR_RED_DWARF</td>\n",
       "      <td>612</td>\n",
       "      <td>26.454969</td>\n",
       "      <td>23.058767</td>\n",
       "      <td>21.471406</td>\n",
       "      <td>19.504961</td>\n",
       "      <td>18.389096</td>\n",
       "      <td>25.700632</td>\n",
       "      <td>23.629122</td>\n",
       "      <td>21.742750</td>\n",
       "      <td>19.861718</td>\n",
       "      <td>18.810375</td>\n",
       "      <td>25.859229</td>\n",
       "      <td>22.426929</td>\n",
       "      <td>21.673551</td>\n",
       "      <td>19.610012</td>\n",
       "      <td>18.376141</td>\n",
       "      <td>24.877052</td>\n",
       "      <td>23.147993</td>\n",
       "      <td>21.475342</td>\n",
       "      <td>19.487330</td>\n",
       "      <td>18.375655</td>\n",
       "    </tr>\n",
       "  </tbody>\n",
       "</table>\n",
       "</div>"
      ],
      "text/plain": [
       "   id            type  fiberID  ...  modelMag_r  modelMag_i  modelMag_z\n",
       "0   0             QSO      601  ...   21.364187   21.020605   21.147340\n",
       "1   1             QSO      788  ...   20.753925   20.693389   20.512314\n",
       "2   2             QSO      427  ...   16.641249   16.660177   16.688928\n",
       "3   3             QSO      864  ...   19.889798   19.758113   19.552855\n",
       "4   4  STAR_RED_DWARF      612  ...   21.475342   19.487330   18.375655\n",
       "\n",
       "[5 rows x 23 columns]"
      ]
     },
     "execution_count": 3,
     "metadata": {
      "tags": []
     },
     "output_type": "execute_result"
    }
   ],
   "source": [
    "import pandas as pd\n",
    "\n",
    "# 파일을 불러오기\n",
    "orb_df = pd.read_csv('/content/drive/My Drive/Colab Notebooks/Dacon_monthly_2/train.csv')\n",
    "orb_df.head()"
   ]
  },
  {
   "cell_type": "code",
   "execution_count": 4,
   "metadata": {
    "colab": {
     "base_uri": "https://localhost:8080/",
     "height": 34
    },
    "colab_type": "code",
    "executionInfo": {
     "elapsed": 26003,
     "status": "ok",
     "timestamp": 1580628377655,
     "user": {
      "displayName": "문석호",
      "photoUrl": "https://lh5.googleusercontent.com/-S41Eymyzw50/AAAAAAAAAAI/AAAAAAAAErI/39dbJ0N5na4/s64/photo.jpg",
      "userId": "02576687641258520797"
     },
     "user_tz": -540
    },
    "id": "W5YU2Xti0Eyv",
    "outputId": "abab2d8e-5e83-45ab-f478-bdc512ddcba5"
   },
   "outputs": [
    {
     "data": {
      "text/plain": [
       "0"
      ]
     },
     "execution_count": 4,
     "metadata": {
      "tags": []
     },
     "output_type": "execute_result"
    }
   ],
   "source": [
    "# null이 있는지 체크\n",
    "orb_df.isnull().sum().sum()"
   ]
  },
  {
   "cell_type": "code",
   "execution_count": 0,
   "metadata": {
    "colab": {},
    "colab_type": "code",
    "id": "ljfNdVEr0G7Y"
   },
   "outputs": [],
   "source": [
    "# data와 target으로 데이터 나누기\n",
    "orb_target = orb_df[['type']].copy()\n",
    "orb_data = orb_df.copy()\n",
    "del orb_data['type']"
   ]
  },
  {
   "cell_type": "code",
   "execution_count": 6,
   "metadata": {
    "colab": {
     "base_uri": "https://localhost:8080/",
     "height": 216
    },
    "colab_type": "code",
    "executionInfo": {
     "elapsed": 25980,
     "status": "ok",
     "timestamp": 1580628377660,
     "user": {
      "displayName": "문석호",
      "photoUrl": "https://lh5.googleusercontent.com/-S41Eymyzw50/AAAAAAAAAAI/AAAAAAAAErI/39dbJ0N5na4/s64/photo.jpg",
      "userId": "02576687641258520797"
     },
     "user_tz": -540
    },
    "id": "B95zjqLe0yMp",
    "outputId": "37d60cec-6137-4516-c17b-4f45c9c152cc"
   },
   "outputs": [
    {
     "data": {
      "text/html": [
       "<div>\n",
       "<style scoped>\n",
       "    .dataframe tbody tr th:only-of-type {\n",
       "        vertical-align: middle;\n",
       "    }\n",
       "\n",
       "    .dataframe tbody tr th {\n",
       "        vertical-align: top;\n",
       "    }\n",
       "\n",
       "    .dataframe thead th {\n",
       "        text-align: right;\n",
       "    }\n",
       "</style>\n",
       "<table border=\"1\" class=\"dataframe\">\n",
       "  <thead>\n",
       "    <tr style=\"text-align: right;\">\n",
       "      <th></th>\n",
       "      <th>id</th>\n",
       "      <th>fiberID</th>\n",
       "      <th>psfMag_u</th>\n",
       "      <th>psfMag_g</th>\n",
       "      <th>psfMag_r</th>\n",
       "      <th>psfMag_i</th>\n",
       "      <th>psfMag_z</th>\n",
       "      <th>fiberMag_u</th>\n",
       "      <th>fiberMag_g</th>\n",
       "      <th>fiberMag_r</th>\n",
       "      <th>fiberMag_i</th>\n",
       "      <th>fiberMag_z</th>\n",
       "      <th>petroMag_u</th>\n",
       "      <th>petroMag_g</th>\n",
       "      <th>petroMag_r</th>\n",
       "      <th>petroMag_i</th>\n",
       "      <th>petroMag_z</th>\n",
       "      <th>modelMag_u</th>\n",
       "      <th>modelMag_g</th>\n",
       "      <th>modelMag_r</th>\n",
       "      <th>modelMag_i</th>\n",
       "      <th>modelMag_z</th>\n",
       "    </tr>\n",
       "  </thead>\n",
       "  <tbody>\n",
       "    <tr>\n",
       "      <th>0</th>\n",
       "      <td>0</td>\n",
       "      <td>601</td>\n",
       "      <td>23.198224</td>\n",
       "      <td>21.431953</td>\n",
       "      <td>21.314148</td>\n",
       "      <td>21.176553</td>\n",
       "      <td>21.171444</td>\n",
       "      <td>22.581309</td>\n",
       "      <td>21.644453</td>\n",
       "      <td>21.657571</td>\n",
       "      <td>21.387653</td>\n",
       "      <td>21.572827</td>\n",
       "      <td>22.504317</td>\n",
       "      <td>21.431636</td>\n",
       "      <td>21.478312</td>\n",
       "      <td>21.145409</td>\n",
       "      <td>20.422446</td>\n",
       "      <td>22.749241</td>\n",
       "      <td>21.465534</td>\n",
       "      <td>21.364187</td>\n",
       "      <td>21.020605</td>\n",
       "      <td>21.147340</td>\n",
       "    </tr>\n",
       "    <tr>\n",
       "      <th>1</th>\n",
       "      <td>1</td>\n",
       "      <td>788</td>\n",
       "      <td>21.431355</td>\n",
       "      <td>20.708104</td>\n",
       "      <td>20.678850</td>\n",
       "      <td>20.703420</td>\n",
       "      <td>20.473229</td>\n",
       "      <td>21.868797</td>\n",
       "      <td>21.029773</td>\n",
       "      <td>20.967054</td>\n",
       "      <td>20.937731</td>\n",
       "      <td>21.063646</td>\n",
       "      <td>21.360701</td>\n",
       "      <td>20.778968</td>\n",
       "      <td>20.889705</td>\n",
       "      <td>20.639812</td>\n",
       "      <td>20.646660</td>\n",
       "      <td>21.492955</td>\n",
       "      <td>20.758527</td>\n",
       "      <td>20.753925</td>\n",
       "      <td>20.693389</td>\n",
       "      <td>20.512314</td>\n",
       "    </tr>\n",
       "    <tr>\n",
       "      <th>2</th>\n",
       "      <td>2</td>\n",
       "      <td>427</td>\n",
       "      <td>17.851451</td>\n",
       "      <td>16.727898</td>\n",
       "      <td>16.679677</td>\n",
       "      <td>16.694640</td>\n",
       "      <td>16.641788</td>\n",
       "      <td>18.171890</td>\n",
       "      <td>17.033098</td>\n",
       "      <td>16.999682</td>\n",
       "      <td>17.095999</td>\n",
       "      <td>17.076449</td>\n",
       "      <td>17.867253</td>\n",
       "      <td>16.738784</td>\n",
       "      <td>16.688874</td>\n",
       "      <td>16.744210</td>\n",
       "      <td>16.808006</td>\n",
       "      <td>17.818063</td>\n",
       "      <td>16.697434</td>\n",
       "      <td>16.641249</td>\n",
       "      <td>16.660177</td>\n",
       "      <td>16.688928</td>\n",
       "    </tr>\n",
       "    <tr>\n",
       "      <th>3</th>\n",
       "      <td>3</td>\n",
       "      <td>864</td>\n",
       "      <td>20.789900</td>\n",
       "      <td>20.040371</td>\n",
       "      <td>19.926909</td>\n",
       "      <td>19.843840</td>\n",
       "      <td>19.463270</td>\n",
       "      <td>21.039030</td>\n",
       "      <td>20.317165</td>\n",
       "      <td>20.217898</td>\n",
       "      <td>20.073852</td>\n",
       "      <td>19.794505</td>\n",
       "      <td>20.433907</td>\n",
       "      <td>19.993727</td>\n",
       "      <td>19.985531</td>\n",
       "      <td>19.750917</td>\n",
       "      <td>19.455117</td>\n",
       "      <td>20.770711</td>\n",
       "      <td>20.001699</td>\n",
       "      <td>19.889798</td>\n",
       "      <td>19.758113</td>\n",
       "      <td>19.552855</td>\n",
       "    </tr>\n",
       "    <tr>\n",
       "      <th>4</th>\n",
       "      <td>4</td>\n",
       "      <td>612</td>\n",
       "      <td>26.454969</td>\n",
       "      <td>23.058767</td>\n",
       "      <td>21.471406</td>\n",
       "      <td>19.504961</td>\n",
       "      <td>18.389096</td>\n",
       "      <td>25.700632</td>\n",
       "      <td>23.629122</td>\n",
       "      <td>21.742750</td>\n",
       "      <td>19.861718</td>\n",
       "      <td>18.810375</td>\n",
       "      <td>25.859229</td>\n",
       "      <td>22.426929</td>\n",
       "      <td>21.673551</td>\n",
       "      <td>19.610012</td>\n",
       "      <td>18.376141</td>\n",
       "      <td>24.877052</td>\n",
       "      <td>23.147993</td>\n",
       "      <td>21.475342</td>\n",
       "      <td>19.487330</td>\n",
       "      <td>18.375655</td>\n",
       "    </tr>\n",
       "  </tbody>\n",
       "</table>\n",
       "</div>"
      ],
      "text/plain": [
       "   id  fiberID   psfMag_u  ...  modelMag_r  modelMag_i  modelMag_z\n",
       "0   0      601  23.198224  ...   21.364187   21.020605   21.147340\n",
       "1   1      788  21.431355  ...   20.753925   20.693389   20.512314\n",
       "2   2      427  17.851451  ...   16.641249   16.660177   16.688928\n",
       "3   3      864  20.789900  ...   19.889798   19.758113   19.552855\n",
       "4   4      612  26.454969  ...   21.475342   19.487330   18.375655\n",
       "\n",
       "[5 rows x 22 columns]"
      ]
     },
     "execution_count": 6,
     "metadata": {
      "tags": []
     },
     "output_type": "execute_result"
    }
   ],
   "source": [
    "orb_data.head()"
   ]
  },
  {
   "cell_type": "code",
   "execution_count": 7,
   "metadata": {
    "colab": {
     "base_uri": "https://localhost:8080/",
     "height": 196
    },
    "colab_type": "code",
    "executionInfo": {
     "elapsed": 25964,
     "status": "ok",
     "timestamp": 1580628377661,
     "user": {
      "displayName": "문석호",
      "photoUrl": "https://lh5.googleusercontent.com/-S41Eymyzw50/AAAAAAAAAAI/AAAAAAAAErI/39dbJ0N5na4/s64/photo.jpg",
      "userId": "02576687641258520797"
     },
     "user_tz": -540
    },
    "id": "hUGyMK5d0z1x",
    "outputId": "d70d420b-7920-42ff-f159-4379b91a1322"
   },
   "outputs": [
    {
     "data": {
      "text/html": [
       "<div>\n",
       "<style scoped>\n",
       "    .dataframe tbody tr th:only-of-type {\n",
       "        vertical-align: middle;\n",
       "    }\n",
       "\n",
       "    .dataframe tbody tr th {\n",
       "        vertical-align: top;\n",
       "    }\n",
       "\n",
       "    .dataframe thead th {\n",
       "        text-align: right;\n",
       "    }\n",
       "</style>\n",
       "<table border=\"1\" class=\"dataframe\">\n",
       "  <thead>\n",
       "    <tr style=\"text-align: right;\">\n",
       "      <th></th>\n",
       "      <th>type</th>\n",
       "    </tr>\n",
       "  </thead>\n",
       "  <tbody>\n",
       "    <tr>\n",
       "      <th>0</th>\n",
       "      <td>QSO</td>\n",
       "    </tr>\n",
       "    <tr>\n",
       "      <th>1</th>\n",
       "      <td>QSO</td>\n",
       "    </tr>\n",
       "    <tr>\n",
       "      <th>2</th>\n",
       "      <td>QSO</td>\n",
       "    </tr>\n",
       "    <tr>\n",
       "      <th>3</th>\n",
       "      <td>QSO</td>\n",
       "    </tr>\n",
       "    <tr>\n",
       "      <th>4</th>\n",
       "      <td>STAR_RED_DWARF</td>\n",
       "    </tr>\n",
       "  </tbody>\n",
       "</table>\n",
       "</div>"
      ],
      "text/plain": [
       "             type\n",
       "0             QSO\n",
       "1             QSO\n",
       "2             QSO\n",
       "3             QSO\n",
       "4  STAR_RED_DWARF"
      ]
     },
     "execution_count": 7,
     "metadata": {
      "tags": []
     },
     "output_type": "execute_result"
    }
   ],
   "source": [
    "orb_target.head()"
   ]
  },
  {
   "cell_type": "code",
   "execution_count": 0,
   "metadata": {
    "colab": {},
    "colab_type": "code",
    "id": "T-ezY7xr0JNW"
   },
   "outputs": [],
   "source": [
    "from sklearn.model_selection import train_test_split"
   ]
  },
  {
   "cell_type": "code",
   "execution_count": 9,
   "metadata": {
    "colab": {
     "base_uri": "https://localhost:8080/",
     "height": 121
    },
    "colab_type": "code",
    "executionInfo": {
     "elapsed": 25933,
     "status": "ok",
     "timestamp": 1580628377663,
     "user": {
      "displayName": "문석호",
      "photoUrl": "https://lh5.googleusercontent.com/-S41Eymyzw50/AAAAAAAAAAI/AAAAAAAAErI/39dbJ0N5na4/s64/photo.jpg",
      "userId": "02576687641258520797"
     },
     "user_tz": -540
    },
    "id": "9YJX-bQC07nL",
    "outputId": "9f8e2a93-2d8f-4d0a-9ebd-6272cc42ddc7"
   },
   "outputs": [
    {
     "name": "stdout",
     "output_type": "stream",
     "text": [
      "(119994, 22)\n",
      "(39998, 22)\n",
      "(39999, 22)\n",
      "(119994, 1)\n",
      "(39998, 1)\n",
      "(39999, 1)\n"
     ]
    }
   ],
   "source": [
    "train_data, test_data, train_label, test_label = train_test_split(orb_data, orb_target, test_size=0.4)\n",
    "val_data, test_data, val_label, test_label = train_test_split(test_data, test_label, test_size=0.5)\n",
    "\n",
    "print(train_data.shape)\n",
    "print(val_data.shape)\n",
    "print(test_data.shape)\n",
    "\n",
    "print(train_label.shape)\n",
    "print(val_label.shape)\n",
    "print(test_label.shape)"
   ]
  },
  {
   "cell_type": "code",
   "execution_count": 10,
   "metadata": {
    "colab": {
     "base_uri": "https://localhost:8080/",
     "height": 261
    },
    "colab_type": "code",
    "executionInfo": {
     "elapsed": 25917,
     "status": "ok",
     "timestamp": 1580628377664,
     "user": {
      "displayName": "문석호",
      "photoUrl": "https://lh5.googleusercontent.com/-S41Eymyzw50/AAAAAAAAAAI/AAAAAAAAErI/39dbJ0N5na4/s64/photo.jpg",
      "userId": "02576687641258520797"
     },
     "user_tz": -540
    },
    "id": "HSeZoZDn2spw",
    "outputId": "dab57a7f-6ba4-47e7-98be-5a1bf47df645"
   },
   "outputs": [
    {
     "name": "stdout",
     "output_type": "stream",
     "text": [
      "            id  fiberID   psfMag_u  ...  modelMag_r  modelMag_i  modelMag_z\n",
      "185334  185334      333  18.769027  ...   17.293326   17.133660   17.068413\n",
      "101406  101406      103  21.653343  ...   17.624839   16.282542   15.515331\n",
      "112715  112715       40  19.916736  ...   19.579857   19.655003   19.765882\n",
      "142590  142590      637  19.508024  ...   18.121038   18.049866   17.983939\n",
      "37069    37069      810  22.171531  ...   20.905467   20.935934   20.995106\n",
      "...        ...      ...        ...  ...         ...         ...         ...\n",
      "53004    53004      368  21.057810  ...   16.853574   16.466096   16.222612\n",
      "2259      2259      320  18.217132  ...   16.501169   16.306246   16.226918\n",
      "72174    72174      615  19.687967  ...   19.476544   19.274666   19.131941\n",
      "91380    91380       13  20.552272  ...   16.710825   16.333097   16.039643\n",
      "139492  139492      347  18.113812  ...   16.561934   16.434774   16.364800\n",
      "\n",
      "[39999 rows x 22 columns]\n"
     ]
    }
   ],
   "source": [
    "print(test_data)"
   ]
  },
  {
   "cell_type": "code",
   "execution_count": 11,
   "metadata": {
    "colab": {
     "base_uri": "https://localhost:8080/",
     "height": 261
    },
    "colab_type": "code",
    "executionInfo": {
     "elapsed": 26288,
     "status": "ok",
     "timestamp": 1580628378048,
     "user": {
      "displayName": "문석호",
      "photoUrl": "https://lh5.googleusercontent.com/-S41Eymyzw50/AAAAAAAAAAI/AAAAAAAAErI/39dbJ0N5na4/s64/photo.jpg",
      "userId": "02576687641258520797"
     },
     "user_tz": -540
    },
    "id": "5tp9CQrd3IfI",
    "outputId": "fbcd5300-8cb6-481e-b330-391f15a210ea"
   },
   "outputs": [
    {
     "name": "stdout",
     "output_type": "stream",
     "text": [
      "                    type\n",
      "185334           ROSAT_D\n",
      "101406     STAR_CATY_VAR\n",
      "112715  SERENDIPITY_BLUE\n",
      "142590          STAR_BHB\n",
      "37069                QSO\n",
      "...                  ...\n",
      "53004             GALAXY\n",
      "2259    SPECTROPHOTO_STD\n",
      "72174   SERENDIPITY_BLUE\n",
      "91380             GALAXY\n",
      "139492  SPECTROPHOTO_STD\n",
      "\n",
      "[39999 rows x 1 columns]\n"
     ]
    }
   ],
   "source": [
    "print(test_label) # 타입 전처리 숫자로"
   ]
  },
  {
   "cell_type": "code",
   "execution_count": 12,
   "metadata": {
    "colab": {
     "base_uri": "https://localhost:8080/",
     "height": 54
    },
    "colab_type": "code",
    "executionInfo": {
     "elapsed": 26275,
     "status": "ok",
     "timestamp": 1580628378050,
     "user": {
      "displayName": "문석호",
      "photoUrl": "https://lh5.googleusercontent.com/-S41Eymyzw50/AAAAAAAAAAI/AAAAAAAAErI/39dbJ0N5na4/s64/photo.jpg",
      "userId": "02576687641258520797"
     },
     "user_tz": -540
    },
    "id": "EbFjiLeO3Q-I",
    "outputId": "6cb23f53-0437-4070-fabc-00a8326547df"
   },
   "outputs": [
    {
     "name": "stdout",
     "output_type": "stream",
     "text": [
      "{'SKY', 'SERENDIPITY_MANUAL', 'GALAXY', 'STAR_SUB_DWARF', 'STAR_CATY_VAR', 'STAR_PN', 'ROSAT_D', 'SPECTROPHOTO_STD', 'SERENDIPITY_BLUE', 'REDDEN_STD', 'STAR_BROWN_DWARF', 'SERENDIPITY_FIRST', 'STAR_BHB', 'SERENDIPITY_DISTANT', 'STAR_RED_DWARF', 'STAR_CARBON', 'SERENDIPITY_RED', 'STAR_WHITE_DWARF', 'QSO'}\n"
     ]
    }
   ],
   "source": [
    "labels = set(test_label['type'])\n",
    "print(labels)"
   ]
  },
  {
   "cell_type": "code",
   "execution_count": 13,
   "metadata": {
    "colab": {
     "base_uri": "https://localhost:8080/",
     "height": 54
    },
    "colab_type": "code",
    "executionInfo": {
     "elapsed": 26261,
     "status": "ok",
     "timestamp": 1580628378052,
     "user": {
      "displayName": "문석호",
      "photoUrl": "https://lh5.googleusercontent.com/-S41Eymyzw50/AAAAAAAAAAI/AAAAAAAAErI/39dbJ0N5na4/s64/photo.jpg",
      "userId": "02576687641258520797"
     },
     "user_tz": -540
    },
    "id": "NUFJM2znmELn",
    "outputId": "a077e961-72a3-4fa6-98ff-7eb3af139114"
   },
   "outputs": [
    {
     "name": "stdout",
     "output_type": "stream",
     "text": [
      "{'SKY': 0, 'SERENDIPITY_MANUAL': 1, 'GALAXY': 2, 'STAR_SUB_DWARF': 3, 'STAR_CATY_VAR': 4, 'STAR_PN': 5, 'ROSAT_D': 6, 'SPECTROPHOTO_STD': 7, 'SERENDIPITY_BLUE': 8, 'REDDEN_STD': 9, 'STAR_BROWN_DWARF': 10, 'SERENDIPITY_FIRST': 11, 'STAR_BHB': 12, 'SERENDIPITY_DISTANT': 13, 'STAR_RED_DWARF': 14, 'STAR_CARBON': 15, 'SERENDIPITY_RED': 16, 'STAR_WHITE_DWARF': 17, 'QSO': 18}\n"
     ]
    }
   ],
   "source": [
    "labels = dict((label, idx) for idx, label in enumerate(labels))\n",
    "print(labels)"
   ]
  },
  {
   "cell_type": "code",
   "execution_count": 14,
   "metadata": {
    "colab": {
     "base_uri": "https://localhost:8080/",
     "height": 645
    },
    "colab_type": "code",
    "executionInfo": {
     "elapsed": 1267,
     "status": "ok",
     "timestamp": 1580628489106,
     "user": {
      "displayName": "문석호",
      "photoUrl": "https://lh5.googleusercontent.com/-S41Eymyzw50/AAAAAAAAAAI/AAAAAAAAErI/39dbJ0N5na4/s64/photo.jpg",
      "userId": "02576687641258520797"
     },
     "user_tz": -540
    },
    "id": "Hsz2yXiWn_8G",
    "outputId": "cab78c6d-2e51-4dc0-936a-9a807cce1b90"
   },
   "outputs": [
    {
     "name": "stdout",
     "output_type": "stream",
     "text": [
      "23766      2\n",
      "113906     2\n",
      "171790    18\n",
      "149119     8\n",
      "80145     18\n",
      "          ..\n",
      "186799    18\n",
      "10479      2\n",
      "172514    12\n",
      "23545     18\n",
      "18108     14\n",
      "Name: type, Length: 119994, dtype: int64\n",
      "116366    18\n",
      "198985    16\n",
      "43721     12\n",
      "133262     7\n",
      "7341      18\n",
      "          ..\n",
      "101114    14\n",
      "162768     9\n",
      "109310    13\n",
      "110001    14\n",
      "75098      9\n",
      "Name: type, Length: 39998, dtype: int64\n",
      "185334     6\n",
      "101406     4\n",
      "112715     8\n",
      "142590    12\n",
      "37069     18\n",
      "          ..\n",
      "53004      2\n",
      "2259       7\n",
      "72174      8\n",
      "91380      2\n",
      "139492     7\n",
      "Name: type, Length: 39999, dtype: int64\n"
     ]
    }
   ],
   "source": [
    "train_label = train_label['type'].map(labels)\n",
    "val_label = val_label['type'].map(labels)\n",
    "test_label = test_label['type'].map(labels)\n",
    "\n",
    "print(train_label)\n",
    "print(val_label)\n",
    "print(test_label)"
   ]
  },
  {
   "cell_type": "code",
   "execution_count": 0,
   "metadata": {
    "colab": {
     "base_uri": "https://localhost:8080/",
     "height": 752
    },
    "colab_type": "code",
    "id": "td_ccVtkzK3u",
    "outputId": "ed8ce9c5-beec-499e-ebba-637545f84973"
   },
   "outputs": [
    {
     "name": "stdout",
     "output_type": "stream",
     "text": [
      "Model: \"sequential_2\"\n",
      "_________________________________________________________________\n",
      "Layer (type)                 Output Shape              Param #   \n",
      "=================================================================\n",
      "dense_11 (Dense)             (None, 128)               2944      \n",
      "_________________________________________________________________\n",
      "dense_12 (Dense)             (None, 64)                8256      \n",
      "_________________________________________________________________\n",
      "dense_13 (Dense)             (None, 32)                2080      \n",
      "_________________________________________________________________\n",
      "dense_14 (Dense)             (None, 16)                528       \n",
      "_________________________________________________________________\n",
      "dense_15 (Dense)             (None, 8)                 136       \n",
      "_________________________________________________________________\n",
      "dense_16 (Dense)             (None, 1)                 9         \n",
      "=================================================================\n",
      "Total params: 13,953\n",
      "Trainable params: 13,953\n",
      "Non-trainable params: 0\n",
      "_________________________________________________________________\n",
      "Train on 119994 samples, validate on 39998 samples\n",
      "Epoch 1/100000\n",
      "119994/119994 [==============================] - 500s 4ms/step - loss: 688405.4786 - mean_absolute_error: 40.3214 - val_loss: 149.5872 - val_mean_absolute_error: 4.9957\n",
      "Epoch 2/100000\n",
      "119994/119994 [==============================] - 502s 4ms/step - loss: 21331.5590 - mean_absolute_error: 18.8630 - val_loss: 9124.6778 - val_mean_absolute_error: 15.6077\n",
      "Epoch 3/100000\n",
      "119994/119994 [==============================] - 503s 4ms/step - loss: 14231.4953 - mean_absolute_error: 11.4581 - val_loss: 18035.8578 - val_mean_absolute_error: 16.0851\n",
      "Epoch 4/100000\n",
      "119994/119994 [==============================] - 500s 4ms/step - loss: 2243.1009 - mean_absolute_error: 6.3370 - val_loss: 37.6337 - val_mean_absolute_error: 5.0236\n",
      "Epoch 5/100000\n",
      "119994/119994 [==============================] - 487s 4ms/step - loss: 178.5191 - mean_absolute_error: 5.4973 - val_loss: 35.2835 - val_mean_absolute_error: 5.0387\n",
      "Epoch 6/100000\n",
      "119994/119994 [==============================] - 487s 4ms/step - loss: 54.6420 - mean_absolute_error: 5.1900 - val_loss: 34.3347 - val_mean_absolute_error: 4.9960\n",
      "Epoch 7/100000\n",
      "119994/119994 [==============================] - 481s 4ms/step - loss: 1021.8772 - mean_absolute_error: 5.2288 - val_loss: 33.9929 - val_mean_absolute_error: 5.0078\n",
      "Epoch 8/100000\n",
      "119994/119994 [==============================] - 492s 4ms/step - loss: 91.2461 - mean_absolute_error: 5.3374 - val_loss: 35.2249 - val_mean_absolute_error: 4.9495\n",
      "Epoch 9/100000\n",
      "119994/119994 [==============================] - 487s 4ms/step - loss: 231.1633 - mean_absolute_error: 5.1201 - val_loss: 33.0948 - val_mean_absolute_error: 5.0333\n",
      "Epoch 10/100000\n",
      " 13894/119994 [==>...........................] - ETA: 6:29 - loss: 34.1828 - mean_absolute_error: 5.0597"
     ]
    }
   ],
   "source": [
    "from keras.models import Sequential\n",
    "from keras.layers import LSTM, Dense\n",
    "\n",
    "model = Sequential()\n",
    "model.add(Dense(128, input_shape=(22,)))\n",
    "model.add(Dense(64))\n",
    "model.add(Dense(32))\n",
    "model.add(Dense(16))\n",
    "model.add(Dense(8))\n",
    "model.add(Dense(1))\n",
    "\n",
    "model.summary()\n",
    "\n",
    "model.compile(loss='mse', optimizer='adam', metrics=['mae'])\n",
    "\n",
    "from keras.callbacks import EarlyStopping\n",
    "early_stopping = EarlyStopping(monitor='loss', patience=1000, mode='auto')\n",
    "\n",
    "model.fit(train_data, train_label, validation_data=(val_data, val_label), epochs=100000, batch_size=1)"
   ]
  },
  {
   "cell_type": "code",
   "execution_count": 0,
   "metadata": {
    "colab": {},
    "colab_type": "code",
    "id": "FWIgAmuv12G6"
   },
   "outputs": [],
   "source": [
    " "
   ]
  }
 ],
 "metadata": {
  "accelerator": "GPU",
  "colab": {
   "authorship_tag": "ABX9TyNXsE8SLBuUmfewfGu/hva9",
   "name": "Untitled0.ipynb",
   "provenance": []
  },
  "kernelspec": {
   "display_name": "Python 3",
   "name": "python3"
  }
 },
 "nbformat": 4,
 "nbformat_minor": 0
}
